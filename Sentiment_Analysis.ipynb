{
 "cells": [
  {
   "cell_type": "code",
   "execution_count": 6,
   "metadata": {
    "colab": {},
    "colab_type": "code",
    "id": "f1rX9JzFKent"
   },
   "outputs": [],
   "source": [
    "#importing the necessary libraries\n",
    "\n",
    "import numpy as np\n",
    "import pandas as pd\n",
    "import matplotlib.pyplot as plt\n",
    "from keras.models import Sequential\n",
    "from keras.layers import Dense\n",
    "import nltk\n",
    "import re\n",
    "from bs4 import BeautifulSoup\n",
    "from sklearn.feature_extraction.text import CountVectorizer\n",
    "from sklearn.preprocessing import LabelBinarizer"
   ]
  },
  {
   "cell_type": "code",
   "execution_count": 7,
   "metadata": {
    "colab": {
     "base_uri": "https://localhost:8080/",
     "height": 102
    },
    "colab_type": "code",
    "id": "Hhw32diNpL6_",
    "outputId": "967b4202-a013-476f-d6f7-e71568d13358"
   },
   "outputs": [
    {
     "name": "stdout",
     "output_type": "stream",
     "text": [
      "[nltk_data] Downloading package stopwords to /root/nltk_data...\n",
      "[nltk_data]   Package stopwords is already up-to-date!\n",
      "[nltk_data] Downloading package wordnet to /root/nltk_data...\n",
      "[nltk_data]   Package wordnet is already up-to-date!\n"
     ]
    },
    {
     "data": {
      "text/plain": [
       "True"
      ]
     },
     "execution_count": 7,
     "metadata": {
      "tags": []
     },
     "output_type": "execute_result"
    }
   ],
   "source": [
    "nltk.download('stopwords')\n",
    "nltk.download('wordnet')"
   ]
  },
  {
   "cell_type": "code",
   "execution_count": 8,
   "metadata": {
    "colab": {
     "base_uri": "https://localhost:8080/",
     "height": 376
    },
    "colab_type": "code",
    "id": "XdVmp5EmKsgy",
    "outputId": "235bbc5d-07ae-450f-ac26-214ad72ca108"
   },
   "outputs": [
    {
     "name": "stdout",
     "output_type": "stream",
     "text": [
      "(50000, 2)\n"
     ]
    },
    {
     "data": {
      "text/html": [
       "<div>\n",
       "<style scoped>\n",
       "    .dataframe tbody tr th:only-of-type {\n",
       "        vertical-align: middle;\n",
       "    }\n",
       "\n",
       "    .dataframe tbody tr th {\n",
       "        vertical-align: top;\n",
       "    }\n",
       "\n",
       "    .dataframe thead th {\n",
       "        text-align: right;\n",
       "    }\n",
       "</style>\n",
       "<table border=\"1\" class=\"dataframe\">\n",
       "  <thead>\n",
       "    <tr style=\"text-align: right;\">\n",
       "      <th></th>\n",
       "      <th>review</th>\n",
       "      <th>sentiment</th>\n",
       "    </tr>\n",
       "  </thead>\n",
       "  <tbody>\n",
       "    <tr>\n",
       "      <th>0</th>\n",
       "      <td>One of the other reviewers has mentioned that ...</td>\n",
       "      <td>positive</td>\n",
       "    </tr>\n",
       "    <tr>\n",
       "      <th>1</th>\n",
       "      <td>A wonderful little production. &lt;br /&gt;&lt;br /&gt;The...</td>\n",
       "      <td>positive</td>\n",
       "    </tr>\n",
       "    <tr>\n",
       "      <th>2</th>\n",
       "      <td>I thought this was a wonderful way to spend ti...</td>\n",
       "      <td>positive</td>\n",
       "    </tr>\n",
       "    <tr>\n",
       "      <th>3</th>\n",
       "      <td>Basically there's a family where a little boy ...</td>\n",
       "      <td>negative</td>\n",
       "    </tr>\n",
       "    <tr>\n",
       "      <th>4</th>\n",
       "      <td>Petter Mattei's \"Love in the Time of Money\" is...</td>\n",
       "      <td>positive</td>\n",
       "    </tr>\n",
       "    <tr>\n",
       "      <th>5</th>\n",
       "      <td>Probably my all-time favorite movie, a story o...</td>\n",
       "      <td>positive</td>\n",
       "    </tr>\n",
       "    <tr>\n",
       "      <th>6</th>\n",
       "      <td>I sure would like to see a resurrection of a u...</td>\n",
       "      <td>positive</td>\n",
       "    </tr>\n",
       "    <tr>\n",
       "      <th>7</th>\n",
       "      <td>This show was an amazing, fresh &amp; innovative i...</td>\n",
       "      <td>negative</td>\n",
       "    </tr>\n",
       "    <tr>\n",
       "      <th>8</th>\n",
       "      <td>Encouraged by the positive comments about this...</td>\n",
       "      <td>negative</td>\n",
       "    </tr>\n",
       "    <tr>\n",
       "      <th>9</th>\n",
       "      <td>If you like original gut wrenching laughter yo...</td>\n",
       "      <td>positive</td>\n",
       "    </tr>\n",
       "  </tbody>\n",
       "</table>\n",
       "</div>"
      ],
      "text/plain": [
       "                                              review sentiment\n",
       "0  One of the other reviewers has mentioned that ...  positive\n",
       "1  A wonderful little production. <br /><br />The...  positive\n",
       "2  I thought this was a wonderful way to spend ti...  positive\n",
       "3  Basically there's a family where a little boy ...  negative\n",
       "4  Petter Mattei's \"Love in the Time of Money\" is...  positive\n",
       "5  Probably my all-time favorite movie, a story o...  positive\n",
       "6  I sure would like to see a resurrection of a u...  positive\n",
       "7  This show was an amazing, fresh & innovative i...  negative\n",
       "8  Encouraged by the positive comments about this...  negative\n",
       "9  If you like original gut wrenching laughter yo...  positive"
      ]
     },
     "execution_count": 8,
     "metadata": {
      "tags": []
     },
     "output_type": "execute_result"
    }
   ],
   "source": [
    "# importing the training data\n",
    "\n",
    "df=pd.read_csv(\"/content/IMDB Dataset.csv\")\n",
    "print(df.shape)\n",
    "df.head(10)"
   ]
  },
  {
   "cell_type": "code",
   "execution_count": 9,
   "metadata": {
    "colab": {
     "base_uri": "https://localhost:8080/",
     "height": 173
    },
    "colab_type": "code",
    "id": "tRJFs_9OPC4N",
    "outputId": "7c54060d-d6b7-4aec-93d9-adb7113116b8"
   },
   "outputs": [
    {
     "data": {
      "text/html": [
       "<div>\n",
       "<style scoped>\n",
       "    .dataframe tbody tr th:only-of-type {\n",
       "        vertical-align: middle;\n",
       "    }\n",
       "\n",
       "    .dataframe tbody tr th {\n",
       "        vertical-align: top;\n",
       "    }\n",
       "\n",
       "    .dataframe thead th {\n",
       "        text-align: right;\n",
       "    }\n",
       "</style>\n",
       "<table border=\"1\" class=\"dataframe\">\n",
       "  <thead>\n",
       "    <tr style=\"text-align: right;\">\n",
       "      <th></th>\n",
       "      <th>review</th>\n",
       "      <th>sentiment</th>\n",
       "    </tr>\n",
       "  </thead>\n",
       "  <tbody>\n",
       "    <tr>\n",
       "      <th>count</th>\n",
       "      <td>50000</td>\n",
       "      <td>50000</td>\n",
       "    </tr>\n",
       "    <tr>\n",
       "      <th>unique</th>\n",
       "      <td>49582</td>\n",
       "      <td>2</td>\n",
       "    </tr>\n",
       "    <tr>\n",
       "      <th>top</th>\n",
       "      <td>Loved today's show!!! It was a variety and not...</td>\n",
       "      <td>negative</td>\n",
       "    </tr>\n",
       "    <tr>\n",
       "      <th>freq</th>\n",
       "      <td>5</td>\n",
       "      <td>25000</td>\n",
       "    </tr>\n",
       "  </tbody>\n",
       "</table>\n",
       "</div>"
      ],
      "text/plain": [
       "                                                   review sentiment\n",
       "count                                               50000     50000\n",
       "unique                                              49582         2\n",
       "top     Loved today's show!!! It was a variety and not...  negative\n",
       "freq                                                    5     25000"
      ]
     },
     "execution_count": 9,
     "metadata": {
      "tags": []
     },
     "output_type": "execute_result"
    }
   ],
   "source": [
    "#summary of the training data\n",
    "\n",
    "df.describe()"
   ]
  },
  {
   "cell_type": "code",
   "execution_count": 10,
   "metadata": {
    "colab": {
     "base_uri": "https://localhost:8080/",
     "height": 51
    },
    "colab_type": "code",
    "id": "yM3wUrNULUdA",
    "outputId": "49abf47f-8912-4978-9487-2dec9b41a41b"
   },
   "outputs": [
    {
     "name": "stdout",
     "output_type": "stream",
     "text": [
      "postive  25000\n",
      "negative  25000\n"
     ]
    }
   ],
   "source": [
    "#Checking the sentiment count\n",
    "\n",
    "print(\"postive \",np.sum(df[\"sentiment\"]==\"positive\"))\n",
    "print(\"negative \",np.sum(df[\"sentiment\"]==\"negative\"))"
   ]
  },
  {
   "cell_type": "code",
   "execution_count": 11,
   "metadata": {
    "colab": {},
    "colab_type": "code",
    "id": "mDZ0ETy8M0Lw"
   },
   "outputs": [],
   "source": [
    "#The dataset is balanced"
   ]
  },
  {
   "cell_type": "code",
   "execution_count": 12,
   "metadata": {
    "colab": {
     "base_uri": "https://localhost:8080/",
     "height": 204
    },
    "colab_type": "code",
    "id": "bpFtVgZJX3d6",
    "outputId": "213b9983-424d-4518-b66b-b126f4dbc908"
   },
   "outputs": [
    {
     "data": {
      "text/html": [
       "<div>\n",
       "<style scoped>\n",
       "    .dataframe tbody tr th:only-of-type {\n",
       "        vertical-align: middle;\n",
       "    }\n",
       "\n",
       "    .dataframe tbody tr th {\n",
       "        vertical-align: top;\n",
       "    }\n",
       "\n",
       "    .dataframe thead th {\n",
       "        text-align: right;\n",
       "    }\n",
       "</style>\n",
       "<table border=\"1\" class=\"dataframe\">\n",
       "  <thead>\n",
       "    <tr style=\"text-align: right;\">\n",
       "      <th></th>\n",
       "      <th>review</th>\n",
       "      <th>sentiment</th>\n",
       "    </tr>\n",
       "  </thead>\n",
       "  <tbody>\n",
       "    <tr>\n",
       "      <th>0</th>\n",
       "      <td>One of the other reviewers has mentioned that ...</td>\n",
       "      <td>positive</td>\n",
       "    </tr>\n",
       "    <tr>\n",
       "      <th>1</th>\n",
       "      <td>A wonderful little production The filming tech...</td>\n",
       "      <td>positive</td>\n",
       "    </tr>\n",
       "    <tr>\n",
       "      <th>2</th>\n",
       "      <td>I thought this was a wonderful way to spend ti...</td>\n",
       "      <td>positive</td>\n",
       "    </tr>\n",
       "    <tr>\n",
       "      <th>3</th>\n",
       "      <td>Basically theres a family where a little boy J...</td>\n",
       "      <td>negative</td>\n",
       "    </tr>\n",
       "    <tr>\n",
       "      <th>4</th>\n",
       "      <td>Petter Matteis Love in the Time of Money is a ...</td>\n",
       "      <td>positive</td>\n",
       "    </tr>\n",
       "  </tbody>\n",
       "</table>\n",
       "</div>"
      ],
      "text/plain": [
       "                                              review sentiment\n",
       "0  One of the other reviewers has mentioned that ...  positive\n",
       "1  A wonderful little production The filming tech...  positive\n",
       "2  I thought this was a wonderful way to spend ti...  positive\n",
       "3  Basically theres a family where a little boy J...  negative\n",
       "4  Petter Matteis Love in the Time of Money is a ...  positive"
      ]
     },
     "execution_count": 12,
     "metadata": {
      "tags": []
     },
     "output_type": "execute_result"
    }
   ],
   "source": [
    "#Clearing the noise in the data - such as html blocks and special characters\n",
    "\n",
    "def clear_noise(text):\n",
    "  \n",
    "  # removing html scripts using Beautiful Soup\n",
    "  text1=BeautifulSoup(text)\n",
    "  text1=text1.get_text()\n",
    "\n",
    "  #removing all other character than alphabets and numbers using regular expression\n",
    "  text2=re.sub('[^a-zA-Z0-9\\s]', '', text1)\n",
    "\n",
    "  return text2\n",
    "\n",
    "df[\"review\"]=df[\"review\"].apply(clear_noise)\n",
    "df.head()"
   ]
  },
  {
   "cell_type": "code",
   "execution_count": 13,
   "metadata": {
    "colab": {},
    "colab_type": "code",
    "id": "xRcb7UE3gCpM"
   },
   "outputs": [],
   "source": [
    "# All html and other special characters got removed"
   ]
  },
  {
   "cell_type": "code",
   "execution_count": 14,
   "metadata": {
    "colab": {},
    "colab_type": "code",
    "id": "djJkJJybVajq"
   },
   "outputs": [],
   "source": [
    "# Now preprocessing the data according to the bag of word model"
   ]
  },
  {
   "cell_type": "code",
   "execution_count": 15,
   "metadata": {
    "colab": {},
    "colab_type": "code",
    "id": "YGwPH9gGk7Ct"
   },
   "outputs": [],
   "source": [
    "# 1. Tokenisation (Breaking down the document into words)\n",
    "\n",
    "def tokenize(text):\n",
    "  return text.split()\n",
    "\n",
    "# 2. Stopword Removal (Removal of words which are not meaningful for the model)\n",
    "\n",
    "sw=set(nltk.corpus.stopwords.words('english'))\n",
    "\n",
    "def stopword_removal(text):\n",
    "  useful_words=[w for w in text if w not in sw]\n",
    "  return useful_words\n",
    "\n",
    "# 3. Lemmatization (Changing all forms of a verb to root form like plays ,played etc. to play)\n",
    "\n",
    "wn=nltk.stem.WordNetLemmatizer()\n",
    "\n",
    "def lemmatize(text):\n",
    "  words=[wn.lemmatize(w) for w in text]\n",
    "  return words\n",
    "\n",
    "# 4. Building a vocabulary (Each sentence will have a feature vector)\n",
    "\n",
    "def myTokenizer(text):\n",
    "  text1=tokenize(text.lower())\n",
    "  text1=stopword_removal(text1)\n",
    "  text1=lemmatize(text1)\n",
    "  return text1\n",
    "\n",
    "cv=CountVectorizer(tokenizer=myTokenizer)"
   ]
  },
  {
   "cell_type": "code",
   "execution_count": 16,
   "metadata": {
    "colab": {
     "base_uri": "https://localhost:8080/",
     "height": 54
    },
    "colab_type": "code",
    "id": "k30MI7zmH9bg",
    "outputId": "141d7ea3-2392-45b6-8934-9a459c6b4b74"
   },
   "outputs": [
    {
     "name": "stdout",
     "output_type": "stream",
     "text": [
      "{'both', 'ain', 'be', 'hasn', 'have', 'there', 'before', 'who', 'after', 'mightn', 'yours', 'my', 'being', 'weren', 'doesn', \"needn't\", 'itself', \"shan't\", 'myself', 'such', 'needn', 'was', 'some', 'couldn', \"doesn't\", 'him', 'how', 're', 'further', 'with', 'over', 'her', \"aren't\", 've', \"wasn't\", 'again', 'does', 'more', \"hasn't\", 'why', 'hers', 'you', 'm', \"should've\", 'same', 'so', 'them', 'below', 'down', 'during', \"didn't\", 'a', 'against', 'can', 'nor', 'at', 'those', 'above', 'which', 'should', \"she's\", 'didn', 'just', 'no', 'until', 'on', 'an', 'once', 'me', 'were', 'while', 'their', 'it', 'its', 'about', 'most', 'are', 'd', 'i', 'shouldn', 'each', 'he', 'herself', 'isn', 'than', 'but', 'am', 'to', 'from', 'did', 'where', 'off', 'will', 'ourselves', \"couldn't\", 'through', 'of', 'few', 'other', 's', \"you'd\", 'had', 'ours', 'she', 'the', 'his', \"hadn't\", 'by', 'if', 'very', \"wouldn't\", 'any', \"you've\", \"haven't\", 'theirs', 'has', 'under', 'been', 't', 'for', \"mightn't\", 'doing', 'don', \"you're\", \"you'll\", 'himself', 'whom', 'and', 'too', 'this', \"weren't\", 'own', 'yourselves', 'here', 'because', 'up', 'wouldn', 'our', 'haven', 'mustn', 'only', 'is', 'they', 'out', 'themselves', 'o', 'in', 'now', \"it's\", 'that', 'between', \"that'll\", 'not', 'won', 'or', 'all', 'what', \"don't\", 'ma', 'do', 'then', 'into', \"won't\", 'wasn', \"isn't\", \"shouldn't\", 'yourself', 'aren', 'when', 'y', 'll', 'these', 'we', 'having', 'your', 'hadn', 'as', 'shan', \"mustn't\"}\n"
     ]
    }
   ],
   "source": [
    "print(sw)"
   ]
  },
  {
   "cell_type": "code",
   "execution_count": 17,
   "metadata": {
    "colab": {
     "base_uri": "https://localhost:8080/",
     "height": 51
    },
    "colab_type": "code",
    "id": "MV_VoOEBTr8k",
    "outputId": "db00a20e-0d7d-42b5-e3ee-14986b8d1f9d"
   },
   "outputs": [
    {
     "name": "stdout",
     "output_type": "stream",
     "text": [
      "(40000,) <class 'pandas.core.series.Series'>\n",
      "(10000,) <class 'pandas.core.series.Series'>\n"
     ]
    }
   ],
   "source": [
    "#Splitting the training data - (Training and Testing data)\n",
    "\n",
    "train_x=df.review[:40000]\n",
    "train_y=df.sentiment[:40000]\n",
    "\n",
    "test_x=df.review[40000:]\n",
    "test_y=df.sentiment[40000:]\n",
    "\n",
    "print(train_x.shape,type(train_x))\n",
    "print(test_x.shape,type(test_x))"
   ]
  },
  {
   "cell_type": "code",
   "execution_count": 18,
   "metadata": {
    "colab": {},
    "colab_type": "code",
    "id": "o4UuyurHuD-U"
   },
   "outputs": [],
   "source": [
    "# Applying all the above operations on the training data\n",
    "\n",
    "vectorised_data=cv.fit_transform(train_x)"
   ]
  },
  {
   "cell_type": "code",
   "execution_count": 19,
   "metadata": {
    "colab": {
     "base_uri": "https://localhost:8080/",
     "height": 34
    },
    "colab_type": "code",
    "id": "jHqEMUrFwAYx",
    "outputId": "d8ad2778-9a58-4dc0-b2f6-6f980759a834"
   },
   "outputs": [
    {
     "name": "stdout",
     "output_type": "stream",
     "text": [
      "(40000, 181861)\n"
     ]
    }
   ],
   "source": [
    "print(vectorised_data.shape)"
   ]
  },
  {
   "cell_type": "code",
   "execution_count": 20,
   "metadata": {
    "colab": {},
    "colab_type": "code",
    "id": "mKMbN9YlxKyh"
   },
   "outputs": [],
   "source": [
    "# Converting the test and train data in vectorised form\n",
    "\n",
    "cv_train=cv.transform(train_x)\n",
    "cv_test=cv.transform(test_x)"
   ]
  },
  {
   "cell_type": "code",
   "execution_count": 21,
   "metadata": {
    "colab": {
     "base_uri": "https://localhost:8080/",
     "height": 34
    },
    "colab_type": "code",
    "id": "wvB23wTG05xU",
    "outputId": "70d888e4-3f39-4a3b-c652-297f45c178ed"
   },
   "outputs": [
    {
     "name": "stdout",
     "output_type": "stream",
     "text": [
      "(40000, 181861)\n"
     ]
    }
   ],
   "source": [
    "print(cv_train.shape)"
   ]
  },
  {
   "cell_type": "code",
   "execution_count": 22,
   "metadata": {
    "colab": {
     "base_uri": "https://localhost:8080/",
     "height": 34
    },
    "colab_type": "code",
    "id": "kTQopzg4tbI7",
    "outputId": "41ca48d9-7139-4c84-ab8c-afc64ca324ba"
   },
   "outputs": [
    {
     "name": "stdout",
     "output_type": "stream",
     "text": [
      "(50000, 1)\n"
     ]
    }
   ],
   "source": [
    "# Labelling the sentiment data\n",
    "\n",
    "lb=LabelBinarizer()\n",
    "sentiment_data=lb.fit_transform(df['sentiment'])\n",
    "print(sentiment_data.shape)\n",
    "\n",
    "train_sentiments=sentiment_data[:40000]\n",
    "test_sentiments=sentiment_data[40000:]"
   ]
  },
  {
   "cell_type": "code",
   "execution_count": 23,
   "metadata": {
    "colab": {
     "base_uri": "https://localhost:8080/",
     "height": 255
    },
    "colab_type": "code",
    "id": "RuxYzRVSlp1Z",
    "outputId": "c68dd8fa-60d3-4494-e54e-0221a91aabbf"
   },
   "outputs": [
    {
     "name": "stdout",
     "output_type": "stream",
     "text": [
      "Model: \"sequential_1\"\n",
      "_________________________________________________________________\n",
      "Layer (type)                 Output Shape              Param #   \n",
      "=================================================================\n",
      "dense_1 (Dense)              (None, 16)                2909792   \n",
      "_________________________________________________________________\n",
      "dense_2 (Dense)              (None, 16)                272       \n",
      "_________________________________________________________________\n",
      "dense_3 (Dense)              (None, 1)                 17        \n",
      "=================================================================\n",
      "Total params: 2,910,081\n",
      "Trainable params: 2,910,081\n",
      "Non-trainable params: 0\n",
      "_________________________________________________________________\n"
     ]
    }
   ],
   "source": [
    "# Building the MLP (Multi layer perceptron) Model\n",
    "\n",
    "model=Sequential()\n",
    "model.add(Dense(16,activation=\"relu\",input_shape=(181861,)))\n",
    "model.add(Dense(16,activation=\"relu\"))\n",
    "model.add(Dense(1,activation=\"sigmoid\"))\n",
    "\n",
    "model.compile(optimizer='sgd',loss='binary_crossentropy',metrics=['accuracy'])\n",
    "\n",
    "model.summary()"
   ]
  },
  {
   "cell_type": "code",
   "execution_count": 24,
   "metadata": {
    "colab": {
     "base_uri": "https://localhost:8080/",
     "height": 1000
    },
    "colab_type": "code",
    "id": "iLO1PRG1lsH5",
    "outputId": "8cd29c16-4e1f-48a5-b9db-e94b8e1e81c3"
   },
   "outputs": [
    {
     "name": "stdout",
     "output_type": "stream",
     "text": [
      "Train on 32000 samples, validate on 8000 samples\n",
      "Epoch 1/60\n",
      "32000/32000 [==============================] - 33s 1ms/step - loss: 0.6775 - accuracy: 0.5872 - val_loss: 0.6598 - val_accuracy: 0.6735\n",
      "Epoch 2/60\n",
      "32000/32000 [==============================] - 32s 997us/step - loss: 0.6423 - accuracy: 0.7269 - val_loss: 0.6262 - val_accuracy: 0.7476\n",
      "Epoch 3/60\n",
      "32000/32000 [==============================] - 32s 992us/step - loss: 0.6087 - accuracy: 0.7773 - val_loss: 0.5938 - val_accuracy: 0.7868\n",
      "Epoch 4/60\n",
      "32000/32000 [==============================] - 32s 989us/step - loss: 0.5754 - accuracy: 0.8032 - val_loss: 0.5614 - val_accuracy: 0.8085\n",
      "Epoch 5/60\n",
      "32000/32000 [==============================] - 32s 998us/step - loss: 0.5421 - accuracy: 0.8185 - val_loss: 0.5294 - val_accuracy: 0.8176\n",
      "Epoch 6/60\n",
      "32000/32000 [==============================] - 32s 996us/step - loss: 0.5097 - accuracy: 0.8271 - val_loss: 0.4991 - val_accuracy: 0.8253\n",
      "Epoch 7/60\n",
      "32000/32000 [==============================] - 32s 993us/step - loss: 0.4796 - accuracy: 0.8353 - val_loss: 0.4717 - val_accuracy: 0.8317\n",
      "Epoch 8/60\n",
      "32000/32000 [==============================] - 32s 993us/step - loss: 0.4528 - accuracy: 0.8414 - val_loss: 0.4477 - val_accuracy: 0.8395\n",
      "Epoch 9/60\n",
      "32000/32000 [==============================] - 32s 992us/step - loss: 0.4293 - accuracy: 0.8481 - val_loss: 0.4274 - val_accuracy: 0.8431\n",
      "Epoch 10/60\n",
      "32000/32000 [==============================] - 32s 992us/step - loss: 0.4092 - accuracy: 0.8531 - val_loss: 0.4101 - val_accuracy: 0.8462\n",
      "Epoch 11/60\n",
      "32000/32000 [==============================] - 32s 1ms/step - loss: 0.3915 - accuracy: 0.8589 - val_loss: 0.3953 - val_accuracy: 0.8504\n",
      "Epoch 12/60\n",
      "32000/32000 [==============================] - 32s 997us/step - loss: 0.3760 - accuracy: 0.8637 - val_loss: 0.3827 - val_accuracy: 0.8537\n",
      "Epoch 13/60\n",
      "32000/32000 [==============================] - 32s 999us/step - loss: 0.3624 - accuracy: 0.8682 - val_loss: 0.3719 - val_accuracy: 0.8568\n",
      "Epoch 14/60\n",
      "32000/32000 [==============================] - 32s 1ms/step - loss: 0.3501 - accuracy: 0.8722 - val_loss: 0.3622 - val_accuracy: 0.8602\n",
      "Epoch 15/60\n",
      "32000/32000 [==============================] - 32s 1000us/step - loss: 0.3390 - accuracy: 0.8757 - val_loss: 0.3536 - val_accuracy: 0.8629\n",
      "Epoch 16/60\n",
      "32000/32000 [==============================] - 32s 985us/step - loss: 0.3290 - accuracy: 0.8799 - val_loss: 0.3462 - val_accuracy: 0.8651\n",
      "Epoch 17/60\n",
      "32000/32000 [==============================] - 32s 990us/step - loss: 0.3197 - accuracy: 0.8831 - val_loss: 0.3395 - val_accuracy: 0.8698\n",
      "Epoch 18/60\n",
      "32000/32000 [==============================] - 32s 993us/step - loss: 0.3115 - accuracy: 0.8860 - val_loss: 0.3335 - val_accuracy: 0.8715\n",
      "Epoch 19/60\n",
      "32000/32000 [==============================] - 32s 994us/step - loss: 0.3036 - accuracy: 0.8883 - val_loss: 0.3291 - val_accuracy: 0.8717\n",
      "Epoch 20/60\n",
      "32000/32000 [==============================] - 32s 994us/step - loss: 0.2963 - accuracy: 0.8909 - val_loss: 0.3236 - val_accuracy: 0.8760\n",
      "Epoch 21/60\n",
      "32000/32000 [==============================] - 32s 996us/step - loss: 0.2896 - accuracy: 0.8938 - val_loss: 0.3201 - val_accuracy: 0.8746\n",
      "Epoch 22/60\n",
      "32000/32000 [==============================] - 32s 993us/step - loss: 0.2832 - accuracy: 0.8957 - val_loss: 0.3162 - val_accuracy: 0.8767\n",
      "Epoch 23/60\n",
      "32000/32000 [==============================] - 32s 990us/step - loss: 0.2774 - accuracy: 0.8982 - val_loss: 0.3127 - val_accuracy: 0.8789\n",
      "Epoch 24/60\n",
      "32000/32000 [==============================] - 32s 993us/step - loss: 0.2717 - accuracy: 0.8998 - val_loss: 0.3098 - val_accuracy: 0.8785\n",
      "Epoch 25/60\n",
      "32000/32000 [==============================] - 32s 990us/step - loss: 0.2664 - accuracy: 0.9019 - val_loss: 0.3071 - val_accuracy: 0.8792\n",
      "Epoch 26/60\n",
      "32000/32000 [==============================] - 32s 986us/step - loss: 0.2613 - accuracy: 0.9030 - val_loss: 0.3048 - val_accuracy: 0.8806\n",
      "Epoch 27/60\n",
      "32000/32000 [==============================] - 31s 978us/step - loss: 0.2566 - accuracy: 0.9052 - val_loss: 0.3026 - val_accuracy: 0.8811\n",
      "Epoch 28/60\n",
      "32000/32000 [==============================] - 31s 969us/step - loss: 0.2519 - accuracy: 0.9075 - val_loss: 0.3007 - val_accuracy: 0.8806\n",
      "Epoch 29/60\n",
      "32000/32000 [==============================] - 31s 958us/step - loss: 0.2477 - accuracy: 0.9090 - val_loss: 0.2985 - val_accuracy: 0.8819\n",
      "Epoch 30/60\n",
      "32000/32000 [==============================] - 31s 955us/step - loss: 0.2435 - accuracy: 0.9104 - val_loss: 0.2970 - val_accuracy: 0.8821\n",
      "Epoch 31/60\n",
      "32000/32000 [==============================] - 30s 945us/step - loss: 0.2393 - accuracy: 0.9117 - val_loss: 0.2957 - val_accuracy: 0.8819\n",
      "Epoch 32/60\n",
      "32000/32000 [==============================] - 30s 929us/step - loss: 0.2354 - accuracy: 0.9141 - val_loss: 0.2960 - val_accuracy: 0.8816\n",
      "Epoch 33/60\n",
      "32000/32000 [==============================] - 30s 928us/step - loss: 0.2317 - accuracy: 0.9157 - val_loss: 0.2931 - val_accuracy: 0.8835\n",
      "Epoch 34/60\n",
      "32000/32000 [==============================] - 30s 930us/step - loss: 0.2281 - accuracy: 0.9165 - val_loss: 0.2919 - val_accuracy: 0.8839\n",
      "Epoch 35/60\n",
      "32000/32000 [==============================] - 30s 931us/step - loss: 0.2246 - accuracy: 0.9176 - val_loss: 0.2924 - val_accuracy: 0.8856\n",
      "Epoch 36/60\n",
      "32000/32000 [==============================] - 30s 929us/step - loss: 0.2213 - accuracy: 0.9186 - val_loss: 0.2900 - val_accuracy: 0.8851\n",
      "Epoch 37/60\n",
      "32000/32000 [==============================] - 30s 926us/step - loss: 0.2180 - accuracy: 0.9205 - val_loss: 0.2905 - val_accuracy: 0.8835\n",
      "Epoch 38/60\n",
      "32000/32000 [==============================] - 30s 929us/step - loss: 0.2147 - accuracy: 0.9220 - val_loss: 0.2886 - val_accuracy: 0.8857\n",
      "Epoch 39/60\n",
      "32000/32000 [==============================] - 30s 925us/step - loss: 0.2117 - accuracy: 0.9231 - val_loss: 0.2880 - val_accuracy: 0.8864\n",
      "Epoch 40/60\n",
      "32000/32000 [==============================] - 30s 930us/step - loss: 0.2084 - accuracy: 0.9250 - val_loss: 0.2886 - val_accuracy: 0.8846\n",
      "Epoch 41/60\n",
      "32000/32000 [==============================] - 30s 932us/step - loss: 0.2055 - accuracy: 0.9260 - val_loss: 0.2874 - val_accuracy: 0.8860\n",
      "Epoch 42/60\n",
      "32000/32000 [==============================] - 30s 927us/step - loss: 0.2028 - accuracy: 0.9268 - val_loss: 0.2868 - val_accuracy: 0.8857\n",
      "Epoch 43/60\n",
      "32000/32000 [==============================] - 30s 930us/step - loss: 0.1998 - accuracy: 0.9281 - val_loss: 0.2869 - val_accuracy: 0.8873\n",
      "Epoch 44/60\n",
      "32000/32000 [==============================] - 29s 921us/step - loss: 0.1970 - accuracy: 0.9285 - val_loss: 0.2866 - val_accuracy: 0.8859\n",
      "Epoch 45/60\n",
      "32000/32000 [==============================] - 29s 911us/step - loss: 0.1943 - accuracy: 0.9299 - val_loss: 0.2863 - val_accuracy: 0.8873\n",
      "Epoch 46/60\n",
      "32000/32000 [==============================] - 30s 931us/step - loss: 0.1917 - accuracy: 0.9315 - val_loss: 0.2857 - val_accuracy: 0.8884\n",
      "Epoch 47/60\n",
      "32000/32000 [==============================] - 30s 926us/step - loss: 0.1890 - accuracy: 0.9323 - val_loss: 0.2859 - val_accuracy: 0.8871\n",
      "Epoch 48/60\n",
      "32000/32000 [==============================] - 30s 932us/step - loss: 0.1866 - accuracy: 0.9337 - val_loss: 0.2857 - val_accuracy: 0.8876\n",
      "Epoch 49/60\n",
      "32000/32000 [==============================] - 30s 928us/step - loss: 0.1841 - accuracy: 0.9345 - val_loss: 0.2858 - val_accuracy: 0.8876\n",
      "Epoch 50/60\n",
      "32000/32000 [==============================] - 30s 929us/step - loss: 0.1816 - accuracy: 0.9353 - val_loss: 0.2854 - val_accuracy: 0.8886\n",
      "Epoch 51/60\n",
      "32000/32000 [==============================] - 30s 926us/step - loss: 0.1790 - accuracy: 0.9369 - val_loss: 0.2853 - val_accuracy: 0.8879\n",
      "Epoch 52/60\n",
      "32000/32000 [==============================] - 30s 926us/step - loss: 0.1771 - accuracy: 0.9378 - val_loss: 0.2857 - val_accuracy: 0.8867\n",
      "Epoch 53/60\n",
      "32000/32000 [==============================] - 30s 925us/step - loss: 0.1744 - accuracy: 0.9388 - val_loss: 0.2911 - val_accuracy: 0.8867\n",
      "Epoch 54/60\n",
      "32000/32000 [==============================] - 30s 927us/step - loss: 0.1723 - accuracy: 0.9400 - val_loss: 0.2862 - val_accuracy: 0.8882\n",
      "Epoch 55/60\n",
      "32000/32000 [==============================] - 30s 928us/step - loss: 0.1698 - accuracy: 0.9410 - val_loss: 0.2863 - val_accuracy: 0.8891\n",
      "Epoch 56/60\n",
      "32000/32000 [==============================] - 30s 925us/step - loss: 0.1676 - accuracy: 0.9419 - val_loss: 0.2868 - val_accuracy: 0.8884\n",
      "Epoch 57/60\n",
      "32000/32000 [==============================] - 30s 923us/step - loss: 0.1657 - accuracy: 0.9429 - val_loss: 0.2873 - val_accuracy: 0.8882\n",
      "Epoch 58/60\n",
      "32000/32000 [==============================] - 30s 927us/step - loss: 0.1634 - accuracy: 0.9431 - val_loss: 0.2877 - val_accuracy: 0.8894\n",
      "Epoch 59/60\n",
      "32000/32000 [==============================] - 29s 921us/step - loss: 0.1610 - accuracy: 0.9451 - val_loss: 0.2880 - val_accuracy: 0.8886\n",
      "Epoch 60/60\n",
      "32000/32000 [==============================] - 30s 923us/step - loss: 0.1590 - accuracy: 0.9455 - val_loss: 0.2904 - val_accuracy: 0.8873\n"
     ]
    }
   ],
   "source": [
    "hist=model.fit(cv_train,train_sentiments,epochs=60,batch_size=512,validation_split=0.2)"
   ]
  },
  {
   "cell_type": "code",
   "execution_count": 25,
   "metadata": {
    "colab": {
     "base_uri": "https://localhost:8080/",
     "height": 282
    },
    "colab_type": "code",
    "id": "hxkPXU3B1VVB",
    "outputId": "864c9d8d-0624-4f78-c542-b228c848ab44"
   },
   "outputs": [
    {
     "data": {
      "image/png": "[encoded data removed]",
      "text/plain": [
       "<Figure size 432x288 with 1 Axes>"
      ]
     },
     "metadata": {
      "needs_background": "light",
      "tags": []
     },
     "output_type": "display_data"
    }
   ],
   "source": [
    "h=hist.history\n",
    "plt.plot(h['val_loss'],label=\"validation loss\")\n",
    "plt.plot(h['loss'],label=\"training_loss\")\n",
    "plt.xlabel(\"Epochs\")\n",
    "plt.ylabel(\"Loss\")\n",
    "plt.legend()\n",
    "plt.show()"
   ]
  },
  {
   "cell_type": "code",
   "execution_count": 26,
   "metadata": {
    "colab": {
     "base_uri": "https://localhost:8080/",
     "height": 279
    },
    "colab_type": "code",
    "id": "QeJ8Qoem4XqL",
    "outputId": "3281e08b-7bc8-421f-82c4-c737d4867583"
   },
   "outputs": [
    {
     "data": {
      "image/png": "[encoded data removed]",
      "text/plain": [
       "<Figure size 432x288 with 1 Axes>"
      ]
     },
     "metadata": {
      "needs_background": "light",
      "tags": []
     },
     "output_type": "display_data"
    }
   ],
   "source": [
    "plt.plot(h['accuracy'],label=\"training_accuracy\")\n",
    "plt.plot(h['val_accuracy'],label=\"val_accuracy\")\n",
    "plt.xlabel(\"Epochs\")\n",
    "plt.ylabel(\"Accuracy\")\n",
    "plt.legend()\n",
    "plt.show()"
   ]
  },
  {
   "cell_type": "code",
   "execution_count": 27,
   "metadata": {
    "colab": {
     "base_uri": "https://localhost:8080/",
     "height": 51
    },
    "colab_type": "code",
    "id": "_Dl_98dM5n2t",
    "outputId": "50ef4b6a-212e-434e-efa8-1091691b44b1"
   },
   "outputs": [
    {
     "name": "stdout",
     "output_type": "stream",
     "text": [
      "10000/10000 [==============================] - 7s 750us/step\n"
     ]
    },
    {
     "data": {
      "text/plain": [
       "[0.28999143540859224, 0.8877999782562256]"
      ]
     },
     "execution_count": 27,
     "metadata": {
      "tags": []
     },
     "output_type": "execute_result"
    }
   ],
   "source": [
    "model.evaluate(cv_test,test_sentiments)"
   ]
  },
  {
   "cell_type": "code",
   "execution_count": 96,
   "metadata": {
    "colab": {},
    "colab_type": "code",
    "id": "tNpS6EN96dlr"
   },
   "outputs": [],
   "source": [
    "# Got around 89 percent accuracy."
   ]
  },
  {
   "cell_type": "code",
   "execution_count": null,
   "metadata": {
    "colab": {},
    "colab_type": "code",
    "id": "nGcuKsrI7Wip"
   },
   "outputs": [],
   "source": []
  }
 ],
 "metadata": {
  "accelerator": "GPU",
  "colab": {
   "collapsed_sections": [],
   "name": "Sentiment Analysis.ipynb",
   "provenance": []
  },
  "kernelspec": {
   "display_name": "Python 3",
   "language": "python",
   "name": "python3"
  },
  "language_info": {
   "codemirror_mode": {
    "name": "ipython",
    "version": 3
   },
   "file_extension": ".py",
   "mimetype": "text/x-python",
   "name": "python",
   "nbconvert_exporter": "python",
   "pygments_lexer": "ipython3",
   "version": "3.8.2"
  }
 },
 "nbformat": 4,
 "nbformat_minor": 1
}
